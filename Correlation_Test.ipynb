{
  "nbformat": 4,
  "nbformat_minor": 0,
  "metadata": {
    "colab": {
      "name": "Correlation Test.ipynb",
      "provenance": [],
      "collapsed_sections": [],
      "authorship_tag": "ABX9TyPtB/MDORd9NQ1Z6e0ipH+j",
      "include_colab_link": true
    },
    "kernelspec": {
      "name": "python3",
      "display_name": "Python 3"
    },
    "language_info": {
      "name": "python"
    }
  },
  "cells": [
    {
      "cell_type": "markdown",
      "metadata": {
        "id": "view-in-github",
        "colab_type": "text"
      },
      "source": [
        "<a href=\"https://colab.research.google.com/github/tz01x/data_mining_examples/blob/main/Correlation_Test.ipynb\" target=\"_parent\"><img src=\"https://colab.research.google.com/assets/colab-badge.svg\" alt=\"Open In Colab\"/></a>"
      ]
    },
    {
      "cell_type": "code",
      "metadata": {
        "id": "NRqt4NRIFUgD"
      },
      "source": [
        "import pandas as pd\n",
        "import numpy as np \n"
      ],
      "execution_count": 1,
      "outputs": []
    },
    {
      "cell_type": "code",
      "metadata": {
        "id": "2wpCUVnrFbbR"
      },
      "source": [
        "data = [\n",
        "    ['Nissan', 'Stanza', 1991, 138, 4, 'MANUAL', 'sedan', 2000],\n",
        "    ['Hyundai', 'Sonata', 2017, None, 4, 'AUTOMATIC', 'Sedan', 27150],\n",
        "    ['Lotus', 'Elise', 2010, 218, 4, 'MANUAL', 'convertible', 54990],\n",
        "    ['GMC', 'Acadia',  2017, 194, 4, 'AUTOMATIC', '4dr SUV', 34450],\n",
        "    ['Nissan', 'Frontier', 2017, 261, 6, 'MANUAL', 'Pickup', 32340],\n",
        "]\n",
        "columns = [\n",
        "    'Make', 'Model', 'Year', 'Engine HP', 'Engine Cylinders',\n",
        "    'Transmission Type', 'Vehicle_Style', 'MSRP'\n",
        "]\n",
        "df = pd.DataFrame(data, columns=columns)\n"
      ],
      "execution_count": null,
      "outputs": []
    },
    {
      "cell_type": "code",
      "metadata": {
        "id": "5LpchWMBFnoz"
      },
      "source": [
        "df.head()"
      ],
      "execution_count": null,
      "outputs": []
    },
    {
      "cell_type": "markdown",
      "metadata": {
        "id": "f2ei-5Ee4SZM"
      },
      "source": [
        "# **Contingency Table showing correlation between Model and transmission type status.**"
      ]
    },
    {
      "cell_type": "code",
      "metadata": {
        "colab": {
          "base_uri": "https://localhost:8080/"
        },
        "id": "7jtfLxCd4R5v",
        "outputId": "e7e483e3-3862-4b98-96d2-a625b3b6a348"
      },
      "source": [
        "\n",
        "data_crosstab = pd.crosstab(df['Model'],\n",
        "                            df['Transmission Type'], \n",
        "                               margins = False)\n",
        "print(data_crosstab)\n"
      ],
      "execution_count": null,
      "outputs": [
        {
          "output_type": "stream",
          "text": [
            "Transmission Type  AUTOMATIC  MANUAL\n",
            "Model                               \n",
            "Acadia                     1       0\n",
            "Elise                      0       1\n",
            "Frontier                   0       1\n",
            "Sonata                     1       0\n",
            "Stanza                     0       1\n"
          ],
          "name": "stdout"
        },
        {
          "output_type": "execute_result",
          "data": {
            "text/plain": [
              "pandas.core.frame.DataFrame"
            ]
          },
          "metadata": {
            "tags": []
          },
          "execution_count": 12
        }
      ]
    },
    {
      "cell_type": "code",
      "metadata": {
        "id": "hKBtDN2NF5qi"
      },
      "source": [
        ""
      ],
      "execution_count": null,
      "outputs": []
    },
    {
      "cell_type": "code",
      "metadata": {
        "colab": {
          "base_uri": "https://localhost:8080/"
        },
        "id": "1HHHZbkm482x",
        "outputId": "9b2b5669-7fb9-416a-ea07-dd50e48aac80"
      },
      "source": [
        "print(data_crosstab.index) # rows index \n",
        "print(data_crosstab.columns) # column index"
      ],
      "execution_count": null,
      "outputs": [
        {
          "output_type": "stream",
          "text": [
            "Index(['Acadia', 'Elise', 'Frontier', 'Sonata', 'Stanza'], dtype='object', name='Model')\n",
            "Index(['AUTOMATIC', 'MANUAL'], dtype='object', name='Transmission Type')\n"
          ],
          "name": "stdout"
        }
      ]
    },
    {
      "cell_type": "markdown",
      "metadata": {
        "id": "lv5E-1_uNraf"
      },
      "source": [
        "# **χ^2 Correlation Test for Nominal Data**"
      ]
    },
    {
      "cell_type": "code",
      "metadata": {
        "colab": {
          "base_uri": "https://localhost:8080/"
        },
        "id": "7quyxlaG6Ajs",
        "outputId": "27cefa7d-a71a-4420-f85a-17ad7abfc8cf"
      },
      "source": [
        "\n",
        "# arr=data_crosstab.to_numpy()\n",
        "# if u have Contingency Table already then replace the bellow list in the  \n",
        "mylist=[[250,200],[50,1000]] #row major \n",
        "arr=np.array(mylist)\n",
        "# arr.shape==(5,2)\n",
        "arr"
      ],
      "execution_count": 3,
      "outputs": [
        {
          "output_type": "execute_result",
          "data": {
            "text/plain": [
              "array([[ 250,  200],\n",
              "       [  50, 1000]])"
            ]
          },
          "metadata": {
            "tags": []
          },
          "execution_count": 3
        }
      ]
    },
    {
      "cell_type": "code",
      "metadata": {
        "colab": {
          "base_uri": "https://localhost:8080/"
        },
        "id": "2MYhUZ0h53v9",
        "outputId": "2cc7b131-d2df-458f-8b94-979b65a6f2e9"
      },
      "source": [
        "\n",
        "sp=arr.shape\n",
        "newarr=np.zeros((sp[0]+1,sp[1]+1))\n",
        "newarr[0:-1,0:-1]=arr \n",
        "# print(\"new array\\n\",newarr)\n",
        "for r in range(newarr.shape[0]):\n",
        "  newarr[r,-1]=np.sum(newarr[r,0:-1])\n",
        "for c in range(newarr.shape[1]):\n",
        "  newarr[-1,c]=np.sum(newarr[0:-1,c])\n",
        "print(\"programable Contingency Table\\n\", newarr)"
      ],
      "execution_count": 4,
      "outputs": [
        {
          "output_type": "stream",
          "text": [
            "programable Contingency Table\n",
            " [[ 250.  200.  450.]\n",
            " [  50. 1000. 1050.]\n",
            " [ 300. 1200. 1500.]]\n"
          ],
          "name": "stdout"
        }
      ]
    },
    {
      "cell_type": "markdown",
      "metadata": {
        "id": "v-8WSTLv-pRY"
      },
      "source": [
        "expected frequency of (Ai ,Bj), which can be computed \n",
        "\n",
        "\n",
        "---\n",
        "\n",
        "\n",
        "![image.png](data:image/png;base64,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)\n"
      ]
    },
    {
      "cell_type": "code",
      "metadata": {
        "colab": {
          "base_uri": "https://localhost:8080/"
        },
        "id": "MaLgkOl1-ocS",
        "outputId": "a7b7ebb4-0fa7-433c-fa26-dd3e2c5d7cc3"
      },
      "source": [
        "expected_f=np.zeros(arr.shape)\n",
        "i,j = arr.shape\n",
        "print(\"Expected frequency\")\n",
        "for ii in range(i):\n",
        "  for jj in range(j):\n",
        "    expected_f[ii,jj]=(newarr[-1,jj]*newarr[ii,-1])/newarr[-1,-1]\n",
        "    print(f\"e{ii}{jj}={newarr[-1,jj]}*{newarr[ii,-1]}/{newarr[-1,-1]}\")\n",
        "\n",
        "print()\n",
        "print(expected_f)\n",
        "x2=0\n",
        "print(\"\\n\\nx2= \",end=\"\")\n",
        "for ii in range(i):\n",
        "  for jj in range(j):\n",
        "    x2=x2+((arr[ii,jj]-expected_f[ii,jj])**2/expected_f[ii,jj])\n",
        "    print(f'({arr[ii,jj]}-{expected_f[ii,jj]})^2/{expected_f[ii,jj]} ',end=\"+\")\n",
        "\n",
        "print(\"\\nx2 =\",x2)"
      ],
      "execution_count": 8,
      "outputs": [
        {
          "output_type": "stream",
          "text": [
            "Expected frequency\n",
            "e00=300.0*450.0/1500.0\n",
            "e01=1200.0*450.0/1500.0\n",
            "e10=300.0*1050.0/1500.0\n",
            "e11=1200.0*1050.0/1500.0\n",
            "\n",
            "[[ 90. 360.]\n",
            " [210. 840.]]\n",
            "\n",
            "\n",
            "x2= (250-90.0)^2/90.0 +(200-360.0)^2/360.0 +(50-210.0)^2/210.0 +(1000-840.0)^2/840.0 +\n",
            "x2 = 507.93650793650795\n"
          ],
          "name": "stdout"
        }
      ]
    },
    {
      "cell_type": "markdown",
      "metadata": {
        "id": "lkFQqwmvM3nz"
      },
      "source": [
        "# **Correlation Coefficient for Numeric Data**"
      ]
    },
    {
      "cell_type": "markdown",
      "metadata": {
        "id": "qcTM06DqM-W-"
      },
      "source": [
        "\n",
        "\n",
        "\n",
        "![image.png](data:image/png;base64,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)"
      ]
    },
    {
      "cell_type": "markdown",
      "metadata": {
        "id": "gFrs46ddNKA4"
      },
      "source": [
        "* A¯ and B¯ are the respective mean values of A and B,\n",
        "* σA and σB are the respective standard deviations of A and B\n",
        "\n",
        "* n is the number of tuples/rows\n",
        "\n",
        "* ai and bi are the respective values of A and B in tuple/row number  i"
      ]
    },
    {
      "cell_type": "code",
      "metadata": {
        "id": "a1y_tEOTM3RQ"
      },
      "source": [
        "A=[5,8,25,6,9,2]\n",
        "B=[6,9,26,7,10,5]\n"
      ],
      "execution_count": 10,
      "outputs": []
    },
    {
      "cell_type": "markdown",
      "metadata": {
        "id": "JeF-ypT2OWHR"
      },
      "source": [
        ""
      ]
    },
    {
      "cell_type": "code",
      "metadata": {
        "id": "zv44V9wFOXTh"
      },
      "source": [
        "import numpy as np \n",
        "a=np.array(A)\n",
        "b=np.array(B)\n"
      ],
      "execution_count": 11,
      "outputs": []
    },
    {
      "cell_type": "code",
      "metadata": {
        "id": "mqKLjU9qOiDb"
      },
      "source": [
        "stand_devi_a=a.std() #  standard deviation\n",
        "mean_a=a.mean() \n",
        "stand_devi_b=b.std() #  standard deviation\n",
        "mean_b=b.mean() \n",
        "n=a.shape[0]\n"
      ],
      "execution_count": 14,
      "outputs": []
    },
    {
      "cell_type": "code",
      "metadata": {
        "colab": {
          "base_uri": "https://localhost:8080/"
        },
        "id": "i0qLnZn4PSZ8",
        "outputId": "e0af3c83-4b95-4194-cc50-5812508a9ccb"
      },
      "source": [
        "sum=0\n",
        "nAB=(n*mean_a*mean_b)\n",
        "for i in range(n):\n",
        "  sum+=((a[i]*b[i])-nAB)\n",
        "\n",
        "rAB=(sum)/(n*stand_devi_a*stand_devi_b)\n",
        "\n",
        "print(rAB)\n"
      ],
      "execution_count": 15,
      "outputs": [
        {
          "output_type": "stream",
          "text": [
            "-8.08708185621764\n"
          ],
          "name": "stdout"
        }
      ]
    },
    {
      "cell_type": "markdown",
      "metadata": {
        "id": "XL_hAfcJQfhK"
      },
      "source": [
        "* rA,B < 0(negatively correlated)  → uA,dB or dA,uB ;u=increase , d=decrease\n",
        "* rA,B > 0(positively correlated) → uA,uB\n",
        "* rA,B ==0 → independent (there is no correlation between them)\n"
      ]
    }
  ]
}